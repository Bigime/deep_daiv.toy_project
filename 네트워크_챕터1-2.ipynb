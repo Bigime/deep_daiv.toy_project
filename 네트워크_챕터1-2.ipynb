{
 "cells": [
  {
   "cell_type": "code",
   "execution_count": 1,
   "id": "c9fee0ff-3ab4-430e-a305-ca672c1f3f14",
   "metadata": {},
   "outputs": [],
   "source": [
    "import networkx as nx\n",
    "#방향성이 없는 네트워크 생성\n",
    "G=nx.Graph()\n",
    "G.add_node(1)\n",
    "G.add_node(2)\n",
    "G.add_edge(1,2)"
   ]
  },
  {
   "cell_type": "code",
   "execution_count": 3,
   "id": "4c3a1803-d995-40b5-9b58-6b75e9cc86bd",
   "metadata": {},
   "outputs": [],
   "source": [
    "#리스트에 안에 있는 노드와 링크를 가져옴\n",
    "G.add_nodes_from([3,4,5])\n",
    "G.add_edges_from([(3,4),(3,5)])"
   ]
  },
  {
   "cell_type": "code",
   "execution_count": 5,
   "id": "d2993f3f-69bd-480c-ab64-4bd6b98ee17f",
   "metadata": {},
   "outputs": [
    {
     "data": {
      "text/plain": [
       "NodeView((1, 2, 3, 4, 5))"
      ]
     },
     "execution_count": 5,
     "metadata": {},
     "output_type": "execute_result"
    }
   ],
   "source": [
    "G.nodes()"
   ]
  },
  {
   "cell_type": "code",
   "execution_count": 7,
   "id": "538f8938-52d0-4a2f-83fa-a3303bd5e9a1",
   "metadata": {},
   "outputs": [
    {
     "data": {
      "text/plain": [
       "EdgeView([(1, 2), (3, 4), (3, 5)])"
      ]
     },
     "execution_count": 7,
     "metadata": {},
     "output_type": "execute_result"
    }
   ],
   "source": [
    "G.edges()"
   ]
  },
  {
   "cell_type": "code",
   "execution_count": 9,
   "id": "3ad96887-2aff-4d8e-87fd-912417169ccc",
   "metadata": {},
   "outputs": [
    {
     "data": {
      "text/plain": [
       "<dict_keyiterator at 0x19b27cfc6d0>"
      ]
     },
     "execution_count": 9,
     "metadata": {},
     "output_type": "execute_result"
    }
   ],
   "source": [
    "G.neighbors(3)"
   ]
  },
  {
   "cell_type": "code",
   "execution_count": 11,
   "id": "4a9087b0-cd8e-4fad-b903-8d6efb76a96f",
   "metadata": {},
   "outputs": [
    {
     "data": {
      "text/plain": [
       "[4, 5]"
      ]
     },
     "execution_count": 11,
     "metadata": {},
     "output_type": "execute_result"
    }
   ],
   "source": [
    "list(G.neighbors(3))"
   ]
  },
  {
   "cell_type": "code",
   "execution_count": 17,
   "id": "2c4fb046-73d0-436b-923e-9849a8c22b5a",
   "metadata": {},
   "outputs": [],
   "source": [
    "a = []\n",
    "for i in list(G.neighbors(3)):\n",
    "    a.append((3,i))"
   ]
  },
  {
   "cell_type": "code",
   "execution_count": 19,
   "id": "a3795d18-487f-41cc-a471-ec383092325a",
   "metadata": {},
   "outputs": [
    {
     "data": {
      "text/plain": [
       "[(3, 4), (3, 5)]"
      ]
     },
     "execution_count": 19,
     "metadata": {},
     "output_type": "execute_result"
    }
   ],
   "source": [
    "a"
   ]
  },
  {
   "cell_type": "code",
   "execution_count": 23,
   "id": "d5c74df4-60ca-4b68-8712-07d3fe3d9fb1",
   "metadata": {},
   "outputs": [],
   "source": [
    "D=nx.DiGraph()\n",
    "D.add_nodes_from([1,2,3,4,5])\n",
    "D.add_edges_from([(1,2),(3,4),(4,3),(4,5),(5,4)])"
   ]
  },
  {
   "cell_type": "code",
   "execution_count": 25,
   "id": "60398502-46fb-4e98-b060-cd9a148eb2a8",
   "metadata": {},
   "outputs": [
    {
     "data": {
      "text/plain": [
       "NodeView((1, 2, 3, 4, 5))"
      ]
     },
     "execution_count": 25,
     "metadata": {},
     "output_type": "execute_result"
    }
   ],
   "source": [
    "D.nodes()"
   ]
  },
  {
   "cell_type": "code",
   "execution_count": 29,
   "id": "386349f8-43c0-4aeb-a093-efa647c34455",
   "metadata": {},
   "outputs": [],
   "source": [
    "# 방향성이 있는 네트워크라서 (3,4)와 (4,3) 구분"
   ]
  },
  {
   "cell_type": "code",
   "execution_count": 35,
   "id": "2e0870e0-f701-41a4-9534-9a3dca0791ea",
   "metadata": {},
   "outputs": [
    {
     "data": {
      "text/plain": [
       "OutEdgeView([(1, 2), (3, 4), (4, 3), (4, 5), (5, 4)])"
      ]
     },
     "execution_count": 35,
     "metadata": {},
     "output_type": "execute_result"
    }
   ],
   "source": [
    "D.edges()"
   ]
  },
  {
   "cell_type": "code",
   "execution_count": 37,
   "id": "c65c01a3-acd4-4c82-91ca-d8a82774650f",
   "metadata": {},
   "outputs": [],
   "source": [
    "# 노드 2로 들어오는 노드"
   ]
  },
  {
   "cell_type": "code",
   "execution_count": 47,
   "id": "7edff57e-52d0-41ef-9de6-33018395ba3e",
   "metadata": {},
   "outputs": [
    {
     "data": {
      "text/plain": [
       "[4]"
      ]
     },
     "execution_count": 47,
     "metadata": {},
     "output_type": "execute_result"
    }
   ],
   "source": [
    "list(D.predecessors(3))"
   ]
  },
  {
   "cell_type": "code",
   "execution_count": 49,
   "id": "08a5a238-840a-4a2c-8196-a8f3d33d6b68",
   "metadata": {},
   "outputs": [],
   "source": [
    "# 노드 2에서 나가는 노드"
   ]
  },
  {
   "cell_type": "code",
   "execution_count": 53,
   "id": "a4355e37-fd0a-400a-ab00-326b4bf04bd9",
   "metadata": {},
   "outputs": [
    {
     "data": {
      "text/plain": [
       "[4]"
      ]
     },
     "execution_count": 53,
     "metadata": {},
     "output_type": "execute_result"
    }
   ],
   "source": [
    "list(D.successors(3))"
   ]
  },
  {
   "cell_type": "code",
   "execution_count": 55,
   "id": "84913a56-9d76-494d-aa19-1f31afed9d90",
   "metadata": {},
   "outputs": [],
   "source": [
    "# 조밀도(density)출력"
   ]
  },
  {
   "cell_type": "code",
   "execution_count": 51,
   "id": "bec153b6-091d-486f-9fc1-f5f413c6faa9",
   "metadata": {},
   "outputs": [
    {
     "data": {
      "text/plain": [
       "0.3"
      ]
     },
     "execution_count": 51,
     "metadata": {},
     "output_type": "execute_result"
    }
   ],
   "source": [
    "nx.density(G)\n",
    "#최대 10개의 링크가 존재할 수 있는데 3개의 링크 존재"
   ]
  },
  {
   "cell_type": "code",
   "execution_count": 59,
   "id": "fd3e0821-3a48-444b-a774-36599aa3753a",
   "metadata": {},
   "outputs": [
    {
     "data": {
      "text/plain": [
       "0.25"
      ]
     },
     "execution_count": 59,
     "metadata": {},
     "output_type": "execute_result"
    }
   ],
   "source": [
    "nx.density(D)\n",
    "# 방향성이 존재하므로 최대 20개 존재할 수 있는데 5개의 링크 존재"
   ]
  },
  {
   "cell_type": "code",
   "execution_count": 61,
   "id": "93318576-d57f-45f3-9140-2f283ecdb2d8",
   "metadata": {},
   "outputs": [
    {
     "data": {
      "text/plain": [
       "<networkx.classes.digraph.DiGraph at 0x19b4d045fa0>"
      ]
     },
     "execution_count": 61,
     "metadata": {},
     "output_type": "execute_result"
    }
   ],
   "source": [
    "#노드 1,2,3 포함해서 서브 그래프 작성\n",
    "nx.subgraph(D,(1,2,3))"
   ]
  },
  {
   "cell_type": "code",
   "execution_count": 63,
   "id": "a41610c3-b62a-4012-b205-e1e8fdab7cc9",
   "metadata": {},
   "outputs": [
    {
     "data": {
      "text/plain": [
       "2"
      ]
     },
     "execution_count": 63,
     "metadata": {},
     "output_type": "execute_result"
    }
   ],
   "source": [
    "#연결선 수 출력\n",
    "#방향성이 있는 경우 나가고 들어오는 연결선 수 모두 포함\n",
    "D.degree(3)"
   ]
  },
  {
   "cell_type": "code",
   "execution_count": 67,
   "id": "46aa0798-a62b-40cd-b8ce-d4d1b1350515",
   "metadata": {},
   "outputs": [
    {
     "data": {
      "text/plain": [
       "2"
      ]
     },
     "execution_count": 67,
     "metadata": {},
     "output_type": "execute_result"
    }
   ],
   "source": [
    "#노드 4와 5와 연결되있으니 2개\n",
    "G.degree(3)"
   ]
  },
  {
   "cell_type": "code",
   "execution_count": 69,
   "id": "2e76d69a-3538-437b-a16a-b26acdcc311d",
   "metadata": {},
   "outputs": [
    {
     "data": {
      "text/plain": [
       "[(1, 2),\n",
       " (1, 3),\n",
       " (1, 4),\n",
       " (1, 5),\n",
       " (2, 3),\n",
       " (2, 4),\n",
       " (2, 5),\n",
       " (3, 4),\n",
       " (3, 5),\n",
       " (4, 5)]"
      ]
     },
     "execution_count": 69,
     "metadata": {},
     "output_type": "execute_result"
    }
   ],
   "source": [
    "#링크에 가중치 부여\n",
    "a=[1,2,3,4,5]\n",
    "b=[]\n",
    "for i in a:\n",
    "    for j in range(i+1,6):\n",
    "        b.append((i,j))\n",
    "b"
   ]
  },
  {
   "cell_type": "code",
   "execution_count": 73,
   "id": "c6bf47bc-89f1-4a88-8f23-db1949cc16ba",
   "metadata": {},
   "outputs": [],
   "source": [
    "W=nx.Graph()\n",
    "W.add_nodes_from(a)\n",
    "W.add_edges_from(b)"
   ]
  },
  {
   "cell_type": "code",
   "execution_count": 75,
   "id": "7fb6b28e-b59a-4084-929a-5b55d4756350",
   "metadata": {},
   "outputs": [
    {
     "data": {
      "text/plain": [
       "[(1, 2, 3),\n",
       " (1, 3, 4),\n",
       " (1, 4, 5),\n",
       " (1, 5, 6),\n",
       " (2, 3, 5),\n",
       " (2, 4, 6),\n",
       " (2, 5, 7),\n",
       " (3, 4, 7),\n",
       " (3, 5, 8),\n",
       " (4, 5, 9)]"
      ]
     },
     "execution_count": 75,
     "metadata": {},
     "output_type": "execute_result"
    }
   ],
   "source": [
    "weighted_edges = [(c,d,c+d) for c,d in b]\n",
    "weighted_edges"
   ]
  },
  {
   "cell_type": "code",
   "execution_count": 77,
   "id": "890f0d62-5f41-475d-9ace-4c5b92a7e03c",
   "metadata": {},
   "outputs": [],
   "source": [
    "W.add_weighted_edges_from(weighted_edges)"
   ]
  },
  {
   "cell_type": "code",
   "execution_count": 85,
   "id": "2ad2f906-17ed-49d3-9bda-732d63638fc9",
   "metadata": {},
   "outputs": [
    {
     "data": {
      "text/plain": [
       "EdgeDataView([(1, 2, 3), (1, 3, 4), (1, 4, 5), (1, 5, 6), (2, 3, 5), (2, 4, 6), (2, 5, 7), (3, 4, 7), (3, 5, 8), (4, 5, 9)])"
      ]
     },
     "execution_count": 85,
     "metadata": {},
     "output_type": "execute_result"
    }
   ],
   "source": [
    "W.edges(data='weight')"
   ]
  },
  {
   "cell_type": "code",
   "execution_count": 87,
   "id": "7308852b-1d34-4200-8998-88455379c75c",
   "metadata": {},
   "outputs": [
    {
     "data": {
      "text/plain": [
       "EdgeView([(1, 2), (1, 3), (1, 4), (1, 5), (2, 3), (2, 4), (2, 5), (3, 4), (3, 5), (4, 5)])"
      ]
     },
     "execution_count": 87,
     "metadata": {},
     "output_type": "execute_result"
    }
   ],
   "source": [
    "W.edges()"
   ]
  },
  {
   "cell_type": "code",
   "execution_count": 89,
   "id": "67e77f35-e70f-4c58-90ec-8292568562cb",
   "metadata": {},
   "outputs": [
    {
     "name": "stdout",
     "output_type": "stream",
     "text": [
      "  (0, 1)\t3\n",
      "  (0, 2)\t4\n",
      "  (0, 3)\t5\n",
      "  (0, 4)\t6\n",
      "  (1, 0)\t3\n",
      "  (1, 2)\t5\n",
      "  (1, 3)\t6\n",
      "  (1, 4)\t7\n",
      "  (2, 0)\t4\n",
      "  (2, 1)\t5\n",
      "  (2, 3)\t7\n",
      "  (2, 4)\t8\n",
      "  (3, 0)\t5\n",
      "  (3, 1)\t6\n",
      "  (3, 2)\t7\n",
      "  (3, 4)\t9\n",
      "  (4, 0)\t6\n",
      "  (4, 1)\t7\n",
      "  (4, 2)\t8\n",
      "  (4, 3)\t9\n"
     ]
    }
   ],
   "source": [
    "#인접행렬출력\n",
    "#w는 가중치가 부여돼서 가중치로 인접행렬이 나오는구나\n",
    "print(nx.adjacency_matrix(W))"
   ]
  },
  {
   "cell_type": "code",
   "execution_count": 91,
   "id": "fa88f458-df5e-46e4-8cf4-93dafe2177b5",
   "metadata": {},
   "outputs": [
    {
     "name": "stdout",
     "output_type": "stream",
     "text": [
      "  (0, 1)\t1\n",
      "  (1, 0)\t1\n",
      "  (2, 3)\t1\n",
      "  (2, 4)\t1\n",
      "  (3, 2)\t1\n",
      "  (4, 2)\t1\n"
     ]
    }
   ],
   "source": [
    "#G는 가중치가 없어서 링크유무로 (0,1)로 나타내는구나\n",
    "print(nx.adjacency_matrix(G))"
   ]
  },
  {
   "cell_type": "code",
   "execution_count": 107,
   "id": "7057aad1-14d5-47d3-b199-72ff517e04d8",
   "metadata": {},
   "outputs": [
    {
     "data": {
      "text/plain": [
       "[(1, {2: {}}), (2, {}), (3, {4: {}}), (4, {3: {}, 5: {}}), (5, {4: {}})]"
      ]
     },
     "execution_count": 107,
     "metadata": {},
     "output_type": "execute_result"
    }
   ],
   "source": [
    "list(D.adjacency())"
   ]
  },
  {
   "cell_type": "code",
   "execution_count": 109,
   "id": "a2a99df1-d1c7-4140-b2eb-856efae4c215",
   "metadata": {},
   "outputs": [
    {
     "data": {
      "image/png": "[encoded data removed]",
      "text/plain": [
       "<Figure size 640x480 with 1 Axes>"
      ]
     },
     "metadata": {},
     "output_type": "display_data"
    }
   ],
   "source": [
    "import matplotlib.pyplot as plt\n",
    "nx.draw(W)"
   ]
  },
  {
   "cell_type": "code",
   "execution_count": 113,
   "id": "d6403974-48df-43cf-b9c1-cafed730af94",
   "metadata": {},
   "outputs": [
    {
     "name": "stdout",
     "output_type": "stream",
     "text": [
      "(1,2)\n",
      "(2,1)\n",
      "(3,4)\n",
      "(3,5)\n",
      "(4,3)\n",
      "(5,3)\n"
     ]
    }
   ],
   "source": [
    "for n,neighbors in G.adjacency():\n",
    "    for number,link_attributes in neighbors.items():\n",
    "        print('(%d,%d)'%(n,number),)"
   ]
  },
  {
   "cell_type": "code",
   "execution_count": 141,
   "id": "9e5bca22-efc3-4a9c-9ba0-bf4c313c10b4",
   "metadata": {},
   "outputs": [
    {
     "name": "stdout",
     "output_type": "stream",
     "text": [
      "1 2 {'weight': 3}\n",
      "1 3 {'weight': 4}\n",
      "1 4 {'weight': 5}\n",
      "1 5 {'weight': 6}\n",
      "2 1 {'weight': 3}\n",
      "2 3 {'weight': 5}\n",
      "2 4 {'weight': 6}\n",
      "2 5 {'weight': 7}\n",
      "3 1 {'weight': 4}\n",
      "3 2 {'weight': 5}\n",
      "3 4 {'weight': 7}\n",
      "3 5 {'weight': 8}\n",
      "4 1 {'weight': 5}\n",
      "4 2 {'weight': 6}\n",
      "4 3 {'weight': 7}\n",
      "4 5 {'weight': 9}\n",
      "5 1 {'weight': 6}\n",
      "5 2 {'weight': 7}\n",
      "5 3 {'weight': 8}\n",
      "5 4 {'weight': 9}\n"
     ]
    }
   ],
   "source": [
    "for n,neighbors in W.adjacency():\n",
    "    for number,link_attributes in neighbors.items():\n",
    "        print(n,number,link_attributes)"
   ]
  },
  {
   "cell_type": "code",
   "execution_count": 137,
   "id": "aab96ad6-7c10-4842-8797-90f6c758252d",
   "metadata": {},
   "outputs": [
    {
     "name": "stdout",
     "output_type": "stream",
     "text": [
      "1 {2: {}}\n",
      "2 {1: {}}\n",
      "3 {4: {}, 5: {}}\n",
      "4 {3: {}}\n",
      "5 {3: {}}\n"
     ]
    }
   ],
   "source": [
    "for n,neighbors in G.adjacency():\n",
    "    print(n,neighbors)\n",
    "#neighbors는 연결된 노드와 가중치를 나타내는 dictionary이다.\n",
    "#number은 연결된 노드를 나타낸다."
   ]
  },
  {
   "cell_type": "code",
   "execution_count": 129,
   "id": "2ea6bde6-1e68-4972-8452-2fbc36ad37de",
   "metadata": {},
   "outputs": [
    {
     "name": "stdout",
     "output_type": "stream",
     "text": [
      "1 {2: {'weight': 3}, 3: {'weight': 4}, 4: {'weight': 5}, 5: {'weight': 6}}\n",
      "2 {1: {'weight': 3}, 3: {'weight': 5}, 4: {'weight': 6}, 5: {'weight': 7}}\n",
      "3 {1: {'weight': 4}, 2: {'weight': 5}, 4: {'weight': 7}, 5: {'weight': 8}}\n",
      "4 {1: {'weight': 5}, 2: {'weight': 6}, 3: {'weight': 7}, 5: {'weight': 9}}\n",
      "5 {1: {'weight': 6}, 2: {'weight': 7}, 3: {'weight': 8}, 4: {'weight': 9}}\n"
     ]
    }
   ],
   "source": [
    "for n,neighbors in W.adjacency():\n",
    "    print(n,neighbors)"
   ]
  },
  {
   "cell_type": "code",
   "execution_count": 151,
   "id": "62fc3f73-4485-4d69-95fc-5f8110314eee",
   "metadata": {},
   "outputs": [
    {
     "name": "stdout",
     "output_type": "stream",
     "text": [
      "Numeric Assortativity Coefficient: -0.2\n"
     ]
    }
   ],
   "source": [
    "import networkx as nx\n",
    "\n",
    "# 네트워크 생성 및 노드 추가\n",
    "W = nx.Graph()\n",
    "W.add_nodes_from([\n",
    "    (1, {'age': 25}),\n",
    "    (2, {'age': 30}),\n",
    "    (3, {'age': 35}),\n",
    "    (4, {'age': 40})\n",
    "])\n",
    "\n",
    "# 엣지 추가\n",
    "W.add_edges_from([(1, 2), (2, 3), (3, 4), (4, 1)])\n",
    "\n",
    "# 수치 속성 이름 정의\n",
    "node_attribute = 'age'\n",
    "\n",
    "# 수치 동질성 계산\n",
    "assortativity_coefficient = nx.numeric_assortativity_coefficient(W, node_attribute)\n",
    "print(\"Numeric Assortativity Coefficient:\", assortativity_coefficient)"
   ]
  }
 ],
 "metadata": {
  "kernelspec": {
   "display_name": "Python 3 (ipykernel)",
   "language": "python",
   "name": "python3"
  },
  "language_info": {
   "codemirror_mode": {
    "name": "ipython",
    "version": 3
   },
   "file_extension": ".py",
   "mimetype": "text/x-python",
   "name": "python",
   "nbconvert_exporter": "python",
   "pygments_lexer": "ipython3",
   "version": "3.8.19"
  }
 },
 "nbformat": 4,
 "nbformat_minor": 5
}
